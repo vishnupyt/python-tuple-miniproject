{
  "nbformat": 4,
  "nbformat_minor": 0,
  "metadata": {
    "colab": {
      "provenance": [],
      "toc_visible": true,
      "authorship_tag": "ABX9TyOx0+NYjPX+E+mZtMpSR6ud",
      "include_colab_link": true
    },
    "kernelspec": {
      "name": "python3",
      "display_name": "Python 3"
    },
    "language_info": {
      "name": "python"
    }
  },
  "cells": [
    {
      "cell_type": "markdown",
      "metadata": {
        "id": "view-in-github",
        "colab_type": "text"
      },
      "source": [
        "<a href=\"https://colab.research.google.com/github/vishnupyt/python-tuple-miniproject/blob/main/Student%20Grade%20Analyzer.ipynb\" target=\"_parent\"><img src=\"https://colab.research.google.com/assets/colab-badge.svg\" alt=\"Open In Colab\"/></a>"
      ]
    },
    {
      "cell_type": "code",
      "source": [
        "# Task: Student Grades Analyzer\n",
        "# Use tuples to store student names and grades. Develop functions to:\n",
        "# Calculate the average grade\n",
        "# Identify students scoring above a certain threshold\n",
        "# Find the highest and lowest grades"
      ],
      "metadata": {
        "id": "R60n3UcUd-9q"
      },
      "execution_count": null,
      "outputs": []
    },
    {
      "cell_type": "code",
      "source": [
        "#Student Grades Analyzer\n",
        "\n",
        "student_data = [\n",
        "    (\"Alice\", 56),\n",
        "    (\"Bruce\", 67),\n",
        "    (\"Charlie\",78),\n",
        "    (\"David\",89),\n",
        "    (\"Elizabeth\",99)\n",
        "    ]\n",
        "\n",
        "def calculate_average(student_grades):\n",
        "  total_grades = sum(grade for _, grade in student_grades)\n",
        "  return total_grades / len(student_grades)\n",
        "\n",
        "def above_threshold(student_list, threshold):\n",
        "  return [name for name,grade in student_list if grade >= threshold]\n",
        "#Student Grades Analyzer\n",
        "\n",
        "student_data = [\n",
        "    (\"Alice\", 56),\n",
        "    (\"Bruce\", 67),\n",
        "    (\"Charlie\",78),\n",
        "    (\"David\",89),\n",
        "    (\"Elizabeth\",99)\n",
        "    ]\n",
        "\n",
        "def calculate_average(student_grades):\n",
        "  \"\"\"This section is used to calculate the average of Student Grades\"\"\"\n",
        "  #Apply List Comprehension Function\n",
        "  total_grades = sum(grade for _, grade in student_grades)\n",
        "  return total_grades / len(student_grades)\n",
        "\n",
        "def above_threshold(student_list, threshold):\n",
        "  \"\"\"Apply Function where the threshold value is applied to determine students who have crossed threshold value\"\"\"\n",
        "  #Using List Comprehension along with if condition.\n",
        "  return [name for name,grade in student_list if grade >= threshold]\n",
        "\n",
        "def max_min_grades(student_list):\n",
        "  \"\"\"maximum minimum grade\"\"\"\n",
        "  #Functions used are list comprehension, conditionals and max and min function.\n",
        "  max_grade = [grade for _,grade in student_list]\n",
        "  min_grade = [grade for _, grade in student_list]\n",
        "  max_student = [name for name,grade in student_list if grade == max(max_grade)]\n",
        "  min_student = [name for name,grade in student_list if grade == min(min_grade)]\n",
        "  return (max_student, max(max_grade)), (min_student, min(min_grade))\n",
        "\n",
        "average_grade = calculate_average(student_data)\n",
        "print(\"Average Grade of Students is: {}\".format(average_grade))\n",
        "\n",
        "threshold = 40\n",
        "above_threshold_students = above_threshold(student_data, threshold)\n",
        "print(\"Students who crossed Threshold (40) are: {}\".format(above_threshold_students))\n",
        "\n",
        "max_grade, min_grade = max_min_grades(student_data)\n",
        "print(\"Students with Highest Grades are: \", max_grade)\n",
        "print(\"Students with Lowest Grades are: \", min_grade)\n"
      ],
      "metadata": {
        "colab": {
          "base_uri": "https://localhost:8080/"
        },
        "id": "oUs5UHRUXz_Q",
        "outputId": "4775404a-7ee7-4f28-bdaa-9938f73579bf"
      },
      "execution_count": 11,
      "outputs": [
        {
          "output_type": "stream",
          "name": "stdout",
          "text": [
            "Average Grade of Students is: 77.8\n",
            "Students who crossed Threshold (40) are: ['Alice', 'Bruce', 'Charlie', 'David', 'Elizabeth']\n",
            "Students with Highest Grades are:  (['Elizabeth'], 99)\n",
            "Students with Lowest Grades are:  (['Alice'], 56)\n"
          ]
        }
      ]
    }
  ]
}